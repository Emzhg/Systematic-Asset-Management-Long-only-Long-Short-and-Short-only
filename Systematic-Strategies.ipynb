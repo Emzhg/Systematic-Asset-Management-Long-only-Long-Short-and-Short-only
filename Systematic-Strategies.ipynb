{
 "cells": [
  {
   "cell_type": "markdown",
   "metadata": {},
   "source": [
    "# Systematic Asset Management Strategies : "
   ]
  },
  {
   "cell_type": "markdown",
   "metadata": {},
   "source": [
    "# Long only, Long-Short and Short only"
   ]
  },
  {
   "cell_type": "markdown",
   "metadata": {},
   "source": [
    " "
   ]
  },
  {
   "cell_type": "markdown",
   "metadata": {},
   "source": [
    "## Import modules and data"
   ]
  },
  {
   "cell_type": "code",
   "execution_count": 1,
   "metadata": {},
   "outputs": [],
   "source": [
    "import numpy as np\n",
    "import pandas as pd\n",
    "import yfinance as yf\n",
    "import copy\n",
    "import datetime as dt\n",
    "import matplotlib.pyplot as plt\n",
    "from matplotlib.ticker import FuncFormatter, MaxNLocator"
   ]
  },
  {
   "cell_type": "code",
   "execution_count": 2,
   "metadata": {},
   "outputs": [],
   "source": [
    "# All stocks of the CAC40\n",
    "tickers = [\"UG.PA\",\"DG.PA\",\"ML.PA\",\"SAN.PA\",\"RI.PA\",\n",
    "           \"SW.PA\",\"LR.PA\",\"VIV.PA\",\"FP.PA\",\"AI.PA\",\n",
    "           \"GLE.PA\",\"OR.PA\",\"CAP.PA\",\"KER.PA\",\"ATO.PA\",\n",
    "           \"ORA.PA\",\"BNP.PA\",\"ENGI.PA\",\"ACA.PA\",\"AC.PA\",\n",
    "           \"SGO.PA\",\"MC.PA\",\"HO.PA\",\"SU.PA\",\"WLN.PA\",\n",
    "           \"AIR.PA\",\"VIE.PA\",\"BN.PA\",\"EN.PA\",\"CA.PA\"]"
   ]
  },
  {
   "cell_type": "code",
   "execution_count": 3,
   "metadata": {},
   "outputs": [
    {
     "name": "stdout",
     "output_type": "stream",
     "text": [
      "[*********************100%***********************]  1 of 1 completed\n",
      "\n",
      "1 Failed download:\n",
      "- UG.PA: No data found, symbol may be delisted\n",
      "[*********************100%***********************]  1 of 1 completed\n",
      "[*********************100%***********************]  1 of 1 completed\n",
      "[*********************100%***********************]  1 of 1 completed\n",
      "[*********************100%***********************]  1 of 1 completed\n",
      "[*********************100%***********************]  1 of 1 completed\n",
      "[*********************100%***********************]  1 of 1 completed\n",
      "[*********************100%***********************]  1 of 1 completed\n",
      "[*********************100%***********************]  1 of 1 completed\n",
      "[*********************100%***********************]  1 of 1 completed\n",
      "[*********************100%***********************]  1 of 1 completed\n",
      "[*********************100%***********************]  1 of 1 completed\n",
      "[*********************100%***********************]  1 of 1 completed\n",
      "[*********************100%***********************]  1 of 1 completed\n",
      "[*********************100%***********************]  1 of 1 completed\n",
      "[*********************100%***********************]  1 of 1 completed\n",
      "[*********************100%***********************]  1 of 1 completed\n",
      "[*********************100%***********************]  1 of 1 completed\n",
      "[*********************100%***********************]  1 of 1 completed\n",
      "[*********************100%***********************]  1 of 1 completed\n",
      "[*********************100%***********************]  1 of 1 completed\n",
      "[*********************100%***********************]  1 of 1 completed\n",
      "[*********************100%***********************]  1 of 1 completed\n",
      "[*********************100%***********************]  1 of 1 completed\n",
      "[*********************100%***********************]  1 of 1 completed\n",
      "[*********************100%***********************]  1 of 1 completed\n",
      "[*********************100%***********************]  1 of 1 completed\n",
      "[*********************100%***********************]  1 of 1 completed\n",
      "[*********************100%***********************]  1 of 1 completed\n",
      "[*********************100%***********************]  1 of 1 completed\n"
     ]
    }
   ],
   "source": [
    "# Creation of a dictionary and extraction of the prices for 10 years \n",
    "ohlcv_mon = {}            \n",
    "start = dt.datetime.today()-dt.timedelta(3650)\n",
    "end = dt.datetime.today()\n",
    "\n",
    "# looping over tickers and creating a dataframe with close prices\n",
    "for ticker in tickers:\n",
    "    ohlcv_mon[ticker] = yf.download(ticker,start,end,interval='1mo')\n",
    "    ohlcv_mon[ticker].dropna(inplace=True,how=\"all\")\n",
    "\n",
    "#Remove tickers without data\n",
    "tickers = ohlcv_mon.keys()"
   ]
  },
  {
   "cell_type": "code",
   "execution_count": 4,
   "metadata": {},
   "outputs": [
    {
     "data": {
      "text/html": [
       "<div>\n",
       "<style scoped>\n",
       "    .dataframe tbody tr th:only-of-type {\n",
       "        vertical-align: middle;\n",
       "    }\n",
       "\n",
       "    .dataframe tbody tr th {\n",
       "        vertical-align: top;\n",
       "    }\n",
       "\n",
       "    .dataframe thead th {\n",
       "        text-align: right;\n",
       "    }\n",
       "</style>\n",
       "<table border=\"1\" class=\"dataframe\">\n",
       "  <thead>\n",
       "    <tr style=\"text-align: right;\">\n",
       "      <th></th>\n",
       "      <th>Open</th>\n",
       "      <th>High</th>\n",
       "      <th>Low</th>\n",
       "      <th>Close</th>\n",
       "      <th>Adj Close</th>\n",
       "      <th>Volume</th>\n",
       "    </tr>\n",
       "    <tr>\n",
       "      <th>Date</th>\n",
       "      <th></th>\n",
       "      <th></th>\n",
       "      <th></th>\n",
       "      <th></th>\n",
       "      <th></th>\n",
       "      <th></th>\n",
       "    </tr>\n",
       "  </thead>\n",
       "  <tbody>\n",
       "    <tr>\n",
       "      <th>2011-05-01</th>\n",
       "      <td>49.705002</td>\n",
       "      <td>50.980000</td>\n",
       "      <td>48.099998</td>\n",
       "      <td>50.950001</td>\n",
       "      <td>37.491852</td>\n",
       "      <td>48550093.0</td>\n",
       "    </tr>\n",
       "    <tr>\n",
       "      <th>2011-06-01</th>\n",
       "      <td>51.070000</td>\n",
       "      <td>52.939999</td>\n",
       "      <td>49.555000</td>\n",
       "      <td>51.450001</td>\n",
       "      <td>38.878777</td>\n",
       "      <td>44270362.0</td>\n",
       "    </tr>\n",
       "    <tr>\n",
       "      <th>2011-07-01</th>\n",
       "      <td>51.630001</td>\n",
       "      <td>53.160000</td>\n",
       "      <td>48.599998</td>\n",
       "      <td>49.799999</td>\n",
       "      <td>37.631935</td>\n",
       "      <td>38818195.0</td>\n",
       "    </tr>\n",
       "    <tr>\n",
       "      <th>2011-08-01</th>\n",
       "      <td>50.240002</td>\n",
       "      <td>50.889999</td>\n",
       "      <td>43.099998</td>\n",
       "      <td>47.000000</td>\n",
       "      <td>35.516090</td>\n",
       "      <td>73224603.0</td>\n",
       "    </tr>\n",
       "    <tr>\n",
       "      <th>2011-09-01</th>\n",
       "      <td>47.799999</td>\n",
       "      <td>48.575001</td>\n",
       "      <td>41.919998</td>\n",
       "      <td>46.200001</td>\n",
       "      <td>34.911560</td>\n",
       "      <td>57367412.0</td>\n",
       "    </tr>\n",
       "    <tr>\n",
       "      <th>...</th>\n",
       "      <td>...</td>\n",
       "      <td>...</td>\n",
       "      <td>...</td>\n",
       "      <td>...</td>\n",
       "      <td>...</td>\n",
       "      <td>...</td>\n",
       "    </tr>\n",
       "    <tr>\n",
       "      <th>2021-01-01</th>\n",
       "      <td>53.759998</td>\n",
       "      <td>56.540001</td>\n",
       "      <td>52.139999</td>\n",
       "      <td>54.959999</td>\n",
       "      <td>54.959999</td>\n",
       "      <td>39958311.0</td>\n",
       "    </tr>\n",
       "    <tr>\n",
       "      <th>2021-02-01</th>\n",
       "      <td>55.660000</td>\n",
       "      <td>58.680000</td>\n",
       "      <td>52.840000</td>\n",
       "      <td>56.459999</td>\n",
       "      <td>56.459999</td>\n",
       "      <td>39078786.0</td>\n",
       "    </tr>\n",
       "    <tr>\n",
       "      <th>2021-03-01</th>\n",
       "      <td>57.000000</td>\n",
       "      <td>61.500000</td>\n",
       "      <td>54.820000</td>\n",
       "      <td>58.500000</td>\n",
       "      <td>58.500000</td>\n",
       "      <td>40875651.0</td>\n",
       "    </tr>\n",
       "    <tr>\n",
       "      <th>2021-04-01</th>\n",
       "      <td>58.470001</td>\n",
       "      <td>60.430000</td>\n",
       "      <td>57.950001</td>\n",
       "      <td>58.840000</td>\n",
       "      <td>58.840000</td>\n",
       "      <td>20675465.0</td>\n",
       "    </tr>\n",
       "    <tr>\n",
       "      <th>2021-04-23</th>\n",
       "      <td>59.389999</td>\n",
       "      <td>59.529999</td>\n",
       "      <td>58.709999</td>\n",
       "      <td>58.840000</td>\n",
       "      <td>58.840000</td>\n",
       "      <td>1087463.0</td>\n",
       "    </tr>\n",
       "  </tbody>\n",
       "</table>\n",
       "<p>121 rows × 6 columns</p>\n",
       "</div>"
      ],
      "text/plain": [
       "                 Open       High        Low      Close  Adj Close      Volume\n",
       "Date                                                                         \n",
       "2011-05-01  49.705002  50.980000  48.099998  50.950001  37.491852  48550093.0\n",
       "2011-06-01  51.070000  52.939999  49.555000  51.450001  38.878777  44270362.0\n",
       "2011-07-01  51.630001  53.160000  48.599998  49.799999  37.631935  38818195.0\n",
       "2011-08-01  50.240002  50.889999  43.099998  47.000000  35.516090  73224603.0\n",
       "2011-09-01  47.799999  48.575001  41.919998  46.200001  34.911560  57367412.0\n",
       "...               ...        ...        ...        ...        ...         ...\n",
       "2021-01-01  53.759998  56.540001  52.139999  54.959999  54.959999  39958311.0\n",
       "2021-02-01  55.660000  58.680000  52.840000  56.459999  56.459999  39078786.0\n",
       "2021-03-01  57.000000  61.500000  54.820000  58.500000  58.500000  40875651.0\n",
       "2021-04-01  58.470001  60.430000  57.950001  58.840000  58.840000  20675465.0\n",
       "2021-04-23  59.389999  59.529999  58.709999  58.840000  58.840000   1087463.0\n",
       "\n",
       "[121 rows x 6 columns]"
      ]
     },
     "execution_count": 4,
     "metadata": {},
     "output_type": "execute_result"
    }
   ],
   "source": [
    "#Exemple for BNP Paribas\n",
    "ohlcv_mon[\"BN.PA\"]"
   ]
  },
  {
   "cell_type": "code",
   "execution_count": 5,
   "metadata": {},
   "outputs": [
    {
     "name": "stdout",
     "output_type": "stream",
     "text": [
      "calculating monthly return for  UG.PA\n",
      "calculating monthly return for  DG.PA\n",
      "calculating monthly return for  ML.PA\n",
      "calculating monthly return for  SAN.PA\n",
      "calculating monthly return for  RI.PA\n",
      "calculating monthly return for  SW.PA\n",
      "calculating monthly return for  LR.PA\n",
      "calculating monthly return for  VIV.PA\n",
      "calculating monthly return for  FP.PA\n",
      "calculating monthly return for  AI.PA\n",
      "calculating monthly return for  GLE.PA\n",
      "calculating monthly return for  OR.PA\n",
      "calculating monthly return for  CAP.PA\n",
      "calculating monthly return for  KER.PA\n",
      "calculating monthly return for  ATO.PA\n",
      "calculating monthly return for  ORA.PA\n",
      "calculating monthly return for  BNP.PA\n",
      "calculating monthly return for  ENGI.PA\n",
      "calculating monthly return for  ACA.PA\n",
      "calculating monthly return for  AC.PA\n",
      "calculating monthly return for  SGO.PA\n",
      "calculating monthly return for  MC.PA\n",
      "calculating monthly return for  HO.PA\n",
      "calculating monthly return for  SU.PA\n",
      "calculating monthly return for  WLN.PA\n",
      "calculating monthly return for  AIR.PA\n",
      "calculating monthly return for  VIE.PA\n",
      "calculating monthly return for  BN.PA\n",
      "calculating monthly return for  EN.PA\n",
      "calculating monthly return for  CA.PA\n"
     ]
    }
   ],
   "source": [
    "#Compute daily return\n",
    "ohlcv_dict = copy.deepcopy(ohlcv_mon)\n",
    "return_df = pd.DataFrame()\n",
    "\n",
    "for ticker in tickers:\n",
    "    print(\"calculating monthly return for \",ticker)\n",
    "    ohlcv_dict[ticker][\"mon_ret\"] = ohlcv_dict[ticker][\"Adj Close\"].pct_change()\n",
    "    return_df[ticker] = ohlcv_dict[ticker][\"mon_ret\"]"
   ]
  },
  {
   "cell_type": "markdown",
   "metadata": {},
   "source": [
    "## Long Only Strategy"
   ]
  },
  {
   "cell_type": "code",
   "execution_count": 6,
   "metadata": {},
   "outputs": [],
   "source": [
    "# We will long the best m stocks of the previous month \n",
    "# and rebalance on a monthly basis by removing the worst x stocks of the portfolio\n",
    "\n",
    "def pflio_long(DF,m,x):\n",
    "    \n",
    "    # Returns cumulative portfolio return\n",
    "    # DF = dataframe with monthly return info for all stocks\n",
    "    # m = number of stock in the portfolio\n",
    "    # x = number of underperforming stocks to be removed from portfolio monthly\"\"\"\n",
    "    \n",
    "    df = DF.copy()\n",
    "    portfolio = []\n",
    "    monthly_ret_long = [0]\n",
    "    for i in range(1,len(df)):\n",
    "        if len(portfolio) > 0:\n",
    "            monthly_ret_long.append(df[portfolio].iloc[i,:].mean())\n",
    "            bad_stocks = df[portfolio].iloc[i,:].sort_values(ascending=True)[:x].index.values.tolist()\n",
    "            portfolio = [t for t in portfolio if t not in bad_stocks]\n",
    "        fill = m - len(portfolio)\n",
    "        new_picks = df.iloc[i,:].sort_values(ascending=False)[:fill].index.values.tolist()\n",
    "        # We avoid to have two time the same stock in the portfolio\n",
    "        new_picks = [t for t in new_picks if t not in portfolio] \n",
    "        portfolio = portfolio + new_picks\n",
    "    monthly_ret_df_long = pd.DataFrame(np.array(monthly_ret_long),columns=[\"mon_ret\"])\n",
    "    return monthly_ret_df_long"
   ]
  },
  {
   "cell_type": "markdown",
   "metadata": {},
   "source": [
    "## Short Only Strategy "
   ]
  },
  {
   "cell_type": "code",
   "execution_count": 7,
   "metadata": {},
   "outputs": [],
   "source": [
    "# We will short the worst m stocks of the previous month \n",
    "# and rebalance on a monthly basis by removing the best x stocks of the portfolio\n",
    "\n",
    "def pflio_short(DF,m,x):\n",
    "    df = DF.copy()\n",
    "    portfolio = []\n",
    "    monthly_ret_short = [0]\n",
    "    for i in range(1,len(df)):\n",
    "        if len(portfolio) > 0:\n",
    "            monthly_ret_short.append(df[portfolio].iloc[i,:].mean())\n",
    "            bad_stocks = df[portfolio].iloc[i,:].sort_values(ascending=False)[:x].index.values.tolist()\n",
    "            portfolio = [t for t in portfolio if t not in bad_stocks]\n",
    "        fill = m - len(portfolio)\n",
    "        new_picks = df.iloc[i,:].sort_values(ascending=True)[:fill].index.values.tolist()\n",
    "        new_picks = [t for t in new_picks if t not in portfolio]\n",
    "        portfolio = portfolio + new_picks\n",
    "    monthly_ret_df_short = pd.DataFrame(np.array(monthly_ret_short),columns=[\"mon_ret\"])\n",
    "    monthly_ret_df_short = -monthly_ret_df_short\n",
    "    return monthly_ret_df_short"
   ]
  },
  {
   "cell_type": "markdown",
   "metadata": {},
   "source": [
    "## Long-Short Strategy"
   ]
  },
  {
   "cell_type": "code",
   "execution_count": 8,
   "metadata": {},
   "outputs": [],
   "source": [
    "# It is the combination of the Long only and Short only strategies \n",
    "# Long 10 stocks and Short 5\n",
    "def pflio_long_short(DF, m, x):\n",
    "        long_short = pd.DataFrame()\n",
    "        long_short = pflio_long(return_df, m, x) + 0.5* (pflio_short(return_df, m-5, x-1))\n",
    "        return long_short"
   ]
  },
  {
   "cell_type": "markdown",
   "metadata": {},
   "source": [
    "## Graphical representation"
   ]
  },
  {
   "cell_type": "code",
   "execution_count": 9,
   "metadata": {},
   "outputs": [
    {
     "name": "stdout",
     "output_type": "stream",
     "text": [
      "[*********************100%***********************]  1 of 1 completed\n"
     ]
    }
   ],
   "source": [
    "# We use the CAC40 as benchmark\n",
    "cac40 = pd.DataFrame()\n",
    "cac40 = yf.download(\"^FCHI\",start,end,interval='1mo')\n",
    "cac40[\"mon_ret\"] = cac40[\"Adj Close\"].pct_change()"
   ]
  },
  {
   "cell_type": "code",
   "execution_count": 10,
   "metadata": {},
   "outputs": [
    {
     "name": "stdout",
     "output_type": "stream",
     "text": [
      "xlabels = ['2011-05-01', '2012-04-01', '2013-03-01', '2014-02-01', '2015-01-01', '2015-12-01', '2016-11-01', '2017-10-01', '2018-09-01', '2019-08-01', '2020-07-01']\n",
      "incrementals = [0.0, 11.0, 22.0, 33.0, 44.0, 55.0, 66.0, 77.0, 88.0, 99.0, 110.0]\n"
     ]
    }
   ],
   "source": [
    "# We need to create a list to use a xlabel\n",
    "BNP = ohlcv_mon[\"BN.PA\"]\n",
    "BNP = BNP.reset_index()\n",
    "date_list = BNP[\"Date\"]\n",
    "\n",
    "# xlabels are the date than we will plot\n",
    "# incrementals are the \"positions\" of the dates\n",
    "xlabels = []\n",
    "incrementals = []\n",
    "nb_date = len(date_list)\n",
    "step = nb_date / 11\n",
    "\n",
    "for i in np.arange(0, nb_date, step):\n",
    "    # The previous format was \"YY-mm-dd : HH-MM-SS\"\n",
    "    # We need to remove the hours and minutes\n",
    "    xlabels.append(date_list[i].strftime('%Y-%m-%d'))\n",
    "    incrementals.append(i)\n",
    "    \n",
    "print(\"xlabels = \" + str(xlabels))\n",
    "print(\"incrementals = \" + str(incrementals))"
   ]
  },
  {
   "cell_type": "code",
   "execution_count": 11,
   "metadata": {},
   "outputs": [],
   "source": [
    "# Choose number of stock to long or Short\n",
    "m = 10\n",
    "x = 3"
   ]
  },
  {
   "cell_type": "code",
   "execution_count": 12,
   "metadata": {},
   "outputs": [
    {
     "name": "stderr",
     "output_type": "stream",
     "text": [
      "No handles with labels found to put in legend.\n"
     ]
    },
    {
     "data": {
      "image/png": "[encoded data removed]",
      "text/plain": [
       "<Figure size 1224x648 with 1 Axes>"
      ]
     },
     "metadata": {
      "needs_background": "light"
     },
     "output_type": "display_data"
    }
   ],
   "source": [
    "#Display the performance of the 3 strategies for 1 decade\n",
    "\n",
    "fig, ax = plt.subplots(figsize=(17,9))\n",
    "\n",
    "plt.legend()\n",
    "#Set up the labels\n",
    "plt.xticks(incrementals, xlabels)\n",
    "\n",
    "#Long 10 stocks and Short 5\n",
    "plt.plot((1+pflio_long_short(return_df,10,3)).cumprod().iloc[-150:],\"p-\", label=\"Long Short\")\n",
    "#Long 10 stocks\n",
    "plt.plot((1+pflio_long(return_df,10,3)).cumprod().iloc[-150:],\"d:\", label=\"Long\")\n",
    "#Short 10 stocks\n",
    "plt.plot((1+pflio_short(return_df,10,3)).cumprod().iloc[-150:],\"b:o\", label=\"Short\")\n",
    "#CAC40 as benchmark\n",
    "plt.plot((1+cac40[\"mon_ret\"][2:].reset_index(drop=True)).cumprod().iloc[-150:],\"r--\", label=\"CAC40\")\n",
    "\n",
    "plt.title(\"CAC40 vs Active Strategies\")\n",
    "plt.ylabel(\"Cumulative return\")\n",
    "plt.xlabel(\"Months\")\n",
    "ax.legend([\"Long Short\",\"Long\",\"Short\",\"CAC40\"])\n",
    "\n",
    "\n",
    "plt.legend()\n",
    "plt.show()"
   ]
  },
  {
   "cell_type": "code",
   "execution_count": 13,
   "metadata": {},
   "outputs": [],
   "source": [
    "# It is clear than the Long-Only strategy outperform the others strategies"
   ]
  },
  {
   "cell_type": "markdown",
   "metadata": {},
   "source": [
    "## Annualised return, volatility and KPI"
   ]
  },
  {
   "cell_type": "code",
   "execution_count": 14,
   "metadata": {},
   "outputs": [],
   "source": [
    "m = 10\n",
    "x = 3\n",
    "rf = 0.02 #risk-free rate, used for Sharpe ratio"
   ]
  },
  {
   "cell_type": "markdown",
   "metadata": {},
   "source": [
    "### Compound Annual Growth Rate"
   ]
  },
  {
   "cell_type": "code",
   "execution_count": 15,
   "metadata": {},
   "outputs": [],
   "source": [
    "def CAGR(DF):\n",
    "    # function to calculate the Cumulative Annual Growth Rate of a strategy\n",
    "    df = DF.copy()\n",
    "    df[\"cum_return\"] = (1 + df[\"mon_ret\"]).cumprod()\n",
    "    n = len(df)/12\n",
    "    CAGR = (df[\"cum_return\"].tolist()[-1])**(1/n) - 1\n",
    "    return CAGR"
   ]
  },
  {
   "cell_type": "code",
   "execution_count": 16,
   "metadata": {},
   "outputs": [
    {
     "name": "stdout",
     "output_type": "stream",
     "text": [
      "CAGR of Long only strategy = 9.54%\n",
      "CAGR of CAC40 = 4.52%\n"
     ]
    }
   ],
   "source": [
    "print ('CAGR of Long only strategy = ' + str(round(CAGR(pflio_long(return_df, m, x))*100, 2)) + '%' )\n",
    "print ('CAGR of CAC40 = ' + str(round(CAGR(cac40)*100, 2)) + '%' )"
   ]
  },
  {
   "cell_type": "markdown",
   "metadata": {},
   "source": [
    "### Annualised Volatility"
   ]
  },
  {
   "cell_type": "code",
   "execution_count": 17,
   "metadata": {},
   "outputs": [],
   "source": [
    "def volatility(DF):\n",
    "    # function to calculate annualized volatility of a trading strategy\"\n",
    "    df = DF.copy()\n",
    "    vol = df[\"mon_ret\"].std() * np.sqrt(12)\n",
    "    return vol"
   ]
  },
  {
   "cell_type": "code",
   "execution_count": 18,
   "metadata": {},
   "outputs": [
    {
     "name": "stdout",
     "output_type": "stream",
     "text": [
      "Vol of Long only strategy = 15.77%\n",
      "Vol of CAC40 = 16.69%\n"
     ]
    }
   ],
   "source": [
    "print ('Vol of Long only strategy = ' + str(round(volatility(pflio_long(return_df, m, x))*100, 2)) + '%' )\n",
    "print ('Vol of CAC40 = ' + str(round(volatility(cac40)*100, 2)) + '%' )"
   ]
  },
  {
   "cell_type": "markdown",
   "metadata": {},
   "source": [
    "### Annualised Sharpe Ratio"
   ]
  },
  {
   "cell_type": "code",
   "execution_count": 19,
   "metadata": {},
   "outputs": [],
   "source": [
    "def sharpe(DF,rf):\n",
    "    # function to calculate sharpe ratio ; rf is the risk free rate\"\n",
    "    df = DF.copy()\n",
    "    sr = (CAGR(df) - rf)/volatility(df)\n",
    "    return sr"
   ]
  },
  {
   "cell_type": "code",
   "execution_count": 20,
   "metadata": {},
   "outputs": [
    {
     "name": "stdout",
     "output_type": "stream",
     "text": [
      "Sharpe ratio of Long only strategy = 0.48\n",
      "Sharpe ratio of CAC40 = 0.15\n"
     ]
    }
   ],
   "source": [
    "print ('Sharpe ratio of Long only strategy = ' + str(round(sharpe(pflio_long(return_df, m, x), rf), 2))  )\n",
    "print ('Sharpe ratio of CAC40 = ' + str(round(sharpe(cac40, rf), 2)) )"
   ]
  },
  {
   "cell_type": "markdown",
   "metadata": {},
   "source": [
    "### Max Drawdown over the period"
   ]
  },
  {
   "cell_type": "code",
   "execution_count": 21,
   "metadata": {},
   "outputs": [],
   "source": [
    "def max_dd(DF):\n",
    "    # function to calculate max drawdown\n",
    "    df = DF.copy()\n",
    "    df[\"cum_return\"] = (1 + df[\"mon_ret\"]).cumprod()\n",
    "    df[\"cum_roll_max\"] = df[\"cum_return\"].cummax()\n",
    "    df[\"drawdown\"] = df[\"cum_roll_max\"] - df[\"cum_return\"]\n",
    "    df[\"drawdown_pct\"] = df[\"drawdown\"]/df[\"cum_roll_max\"]\n",
    "    max_dd = df[\"drawdown_pct\"].max()\n",
    "    return max_dd"
   ]
  },
  {
   "cell_type": "code",
   "execution_count": 22,
   "metadata": {},
   "outputs": [
    {
     "name": "stdout",
     "output_type": "stream",
     "text": [
      "Max Drawdown of Long only strategy = 23.18%\n",
      "Max Drawdown of CAC40 = 26.46%\n"
     ]
    }
   ],
   "source": [
    "print ('Max Drawdown of Long only strategy = ' + str(round(max_dd(pflio_long(return_df, m, x))*100, 2)) + '%')\n",
    "print ('Max Drawdown of CAC40 = ' + str(round(max_dd(cac40)*100, 2)) + '%')"
   ]
  },
  {
   "cell_type": "raw",
   "metadata": {},
   "source": [
    "Compared to CAC40, the Long-Only strategy offers :\n",
    "    -Higher return\n",
    "    -Lower volatility\n",
    "    -Lower Max Drawdown"
   ]
  },
  {
   "cell_type": "markdown",
   "metadata": {},
   "source": [
    "### Created by Pierre Marchand-Lentz and Emmanuel Zheng"
   ]
  }
 ],
 "metadata": {
  "kernelspec": {
   "display_name": "Python 3",
   "language": "python",
   "name": "python3"
  },
  "language_info": {
   "codemirror_mode": {
    "name": "ipython",
    "version": 3
   },
   "file_extension": ".py",
   "mimetype": "text/x-python",
   "name": "python",
   "nbconvert_exporter": "python",
   "pygments_lexer": "ipython3",
   "version": "3.8.8"
  }
 },
 "nbformat": 4,
 "nbformat_minor": 4
}
